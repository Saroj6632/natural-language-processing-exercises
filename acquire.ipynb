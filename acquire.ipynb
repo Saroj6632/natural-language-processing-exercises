{
 "cells": [
  {
   "cell_type": "code",
   "execution_count": 1,
   "id": "cbc8d4af",
   "metadata": {},
   "outputs": [],
   "source": [
    "import pandas as pd\n",
    "import re\n",
    "from requests import get\n",
    "from bs4 import BeautifulSoup\n",
    "import os\n"
   ]
  },
  {
   "cell_type": "code",
   "execution_count": 2,
   "id": "4e6133da",
   "metadata": {},
   "outputs": [],
   "source": [
    "def get_article_text():\n",
    "    # if the article/data is locally available\n",
    "    if path.exists('article.txt'):\n",
    "        with open('article.txt') as f:\n",
    "            return f.read()\n",
    "    # if the article is not locally available, fetch the data\n",
    "    url= 'https://codeup.com/blog/'\n",
    "    headers= {'User-Agent':'Codeup Data Science'}\n",
    "    response= get(url,headers=headers)\n",
    "    soup= BeautifulSoup(response.text)\n",
    "    article = soup.find('div',)"
   ]
  },
  {
   "cell_type": "markdown",
   "id": "2af0b010",
   "metadata": {},
   "source": [
    " # Codeup Blog Articles\n",
    "\n",
    "#### Visit Codeup's Blog and record the urls for at least 5 distinct blog posts. For each post, you should scrape at least the post's title and content.\n",
    "\n",
    "#### Encapsulate your work in a function named get_blog_articles that will return a list of dictionaries, with each dictionary representing one article. The shape of each dictionary should look like this:"
   ]
  },
  {
   "cell_type": "code",
   "execution_count": 19,
   "id": "9ab21a6c",
   "metadata": {},
   "outputs": [],
   "source": [
    "url= 'https://codeup.com/blog/'\n",
    "headers={'User-Agent':'Codeup Data Science'}\n",
    "response = get(url,headers=headers)"
   ]
  },
  {
   "cell_type": "code",
   "execution_count": 20,
   "id": "2f16ee76",
   "metadata": {},
   "outputs": [
    {
     "data": {
      "text/plain": [
       "<Response [200]>"
      ]
     },
     "execution_count": 20,
     "metadata": {},
     "output_type": "execute_result"
    }
   ],
   "source": [
    "response"
   ]
  },
  {
   "cell_type": "code",
   "execution_count": 21,
   "id": "89e46e6c",
   "metadata": {},
   "outputs": [
    {
     "name": "stdout",
     "output_type": "stream",
     "text": [
      "<!DOCTYPE html>\n",
      "<html lang=\"en-US\">\n",
      "<head>\n",
      "\t<meta charset=\"UTF-8\" />\n",
      "<meta http-equiv=\"X-UA-Compatible\" content=\"IE=edge\">\n",
      "\t<link rel=\"pingback\" href=\"https://codeup.com/xmlrpc.php\" />\n",
      "\n",
      "\t<script type=\"text/javascript\">\n",
      "\t\tdocument.documentElement.className = 'js';\n",
      "\t</script>\n",
      "\t\n",
      "\t<link rel=\"preconnect\" href=\"https://fonts.gstatic.com\" crossorigin /><script id=\"diviarea-loader\">window.DiviPopupData=window.DiviAreaConfig={\"zIndex\":1000000,\"animateSpeed\":400,\"triggerClassPrefix\":\"show-popup-\",\"idAttrib\":\"data-popup\",\"modalIndicatorClass\":\"is-modal\",\"blockingIndicatorClass\":\"is-blocking\",\"defaultShowCloseButton\":true,\"withCloseClass\":\"with-close\",\"noCloseClass\":\"no-close\",\"triggerCloseClass\":\"close\",\"singletonClass\":\"single\",\"darkModeClass\":\"dark\",\"noShadowClass\":\"no-shadow\",\"altCloseClass\":\"clos\n"
     ]
    }
   ],
   "source": [
    "print(response.text[:800])"
   ]
  },
  {
   "cell_type": "code",
   "execution_count": 22,
   "id": "ff0bd400",
   "metadata": {},
   "outputs": [],
   "source": [
    "# Make a soup variable holding the response content\n",
    "soup = BeautifulSoup(response.content, 'html.parser')\n"
   ]
  },
  {
   "cell_type": "code",
   "execution_count": 23,
   "id": "56012d75",
   "metadata": {},
   "outputs": [
    {
     "data": {
      "text/plain": [
       "'Blog - Codeup'"
      ]
     },
     "execution_count": 23,
     "metadata": {},
     "output_type": "execute_result"
    }
   ],
   "source": [
    "soup.title.string"
   ]
  },
  {
   "cell_type": "code",
   "execution_count": 8,
   "id": "6755f6fb",
   "metadata": {},
   "outputs": [
    {
     "data": {
      "text/plain": [
       "[<article class=\"et_pb_post clearfix et_pb_blog_item_0_0 post-19064 post type-post status-publish format-standard has-post-thumbnail hentry category-cloud-administration category-data-science category-featured category-web-development\" id=\"post-19064\">\n",
       " <a class=\"entry-featured-image-url\" href=\"https://codeup.com/data-science/recession-proof-career/\"><img alt=\"Is a Career in Tech Recession-Proof?\" class=\"\" height=\"675\" loading=\"lazy\" sizes=\"(min-width: 0px) and (max-width: 480px) 480px, (min-width: 481px) and (max-width: 980px) 980px, (min-width: 981px) 1080px, 100vw\" src=\"https://199lj33nqk3p88xz03dvn481-wpengine.netdna-ssl.com/wp-content/uploads/2022/08/Copy-of-Blog-BannerFeatured-Image-1080x675.png\" srcset=\"https://199lj33nqk3p88xz03dvn481-wpengine.netdna-ssl.com/wp-content/uploads/2022/08/Copy-of-Blog-BannerFeatured-Image-980x551.png 980w, https://199lj33nqk3p88xz03dvn481-wpengine.netdna-ssl.com/wp-content/uploads/2022/08/Copy-of-Blog-BannerFeatured-Image-480x270.png 480w\" width=\"1080\"/></a>\n",
       " <h2 class=\"entry-title\"><a href=\"https://codeup.com/data-science/recession-proof-career/\">Is a Career in Tech Recession-Proof?</a></h2>\n",
       " <p class=\"post-meta\"><span class=\"published\">Aug 12, 2022</span> | <a href=\"https://codeup.com/category/cloud-administration/\" rel=\"tag\">Cloud Administration</a>, <a href=\"https://codeup.com/category/data-science/\" rel=\"tag\">Data Science</a>, <a href=\"https://codeup.com/category/featured/\" rel=\"tag\">Featured</a>, <a href=\"https://codeup.com/category/web-development/\" rel=\"tag\">Full Stack Web Development</a></p><div class=\"post-content\"><div class=\"post-content-inner\"><p>Given the current economic climate, many economists are considering the U.S. to be entering a recession. This can...</p>\n",
       " </div></div>\n",
       " </article>,\n",
       " <article class=\"et_pb_post clearfix et_pb_blog_item_0_1 post-19028 post type-post status-publish format-standard has-post-thumbnail hentry category-codeup-news category-events\" id=\"post-19028\">\n",
       " <a class=\"entry-featured-image-url\" href=\"https://codeup.com/codeup-news/codeup-x-comic-con/\"><img alt=\"Codeup X Superhero Car Show &amp; Comic Con\" class=\"\" height=\"675\" loading=\"lazy\" sizes=\"(min-width: 0px) and (max-width: 480px) 480px, (min-width: 481px) 1080px, 100vw\" src=\"https://199lj33nqk3p88xz03dvn481-wpengine.netdna-ssl.com/wp-content/uploads/2022/08/Blog-Featured-Image-Template-6.png\" srcset=\"https://199lj33nqk3p88xz03dvn481-wpengine.netdna-ssl.com/wp-content/uploads/2022/08/Blog-Featured-Image-Template-6.png 1080w, https://199lj33nqk3p88xz03dvn481-wpengine.netdna-ssl.com/wp-content/uploads/2022/08/Blog-Featured-Image-Template-6-480x297.png 480w\" width=\"1080\"/></a>\n",
       " <h2 class=\"entry-title\"><a href=\"https://codeup.com/codeup-news/codeup-x-comic-con/\">Codeup X Superhero Car Show &amp; Comic Con</a></h2>\n",
       " <p class=\"post-meta\"><span class=\"published\">Aug 10, 2022</span> | <a href=\"https://codeup.com/category/codeup-news/\" rel=\"tag\">Codeup News</a>, <a href=\"https://codeup.com/category/events/\" rel=\"tag\">Events</a></p><div class=\"post-content\"><div class=\"post-content-inner\"><p>Codeup had a blast at the San Antonio Superhero Car Show and Comic Con! We had a booth for the all four days of the...</p>\n",
       " </div></div>\n",
       " </article>,\n",
       " <article class=\"et_pb_post clearfix et_pb_blog_item_0_2 post-18984 post type-post status-publish format-standard has-post-thumbnail hentry category-featured category-web-development\" id=\"post-18984\">\n",
       " <a class=\"entry-featured-image-url\" href=\"https://codeup.com/featured/series-part-3-web-development/\"><img alt=\"What Jobs Can You Get After a Coding Bootcamp? Part 3: Web Development\" class=\"\" height=\"675\" loading=\"lazy\" sizes=\"(min-width: 0px) and (max-width: 480px) 480px, (min-width: 481px) 1080px, 100vw\" src=\"https://199lj33nqk3p88xz03dvn481-wpengine.netdna-ssl.com/wp-content/uploads/2022/08/Blog-Featured-Image-Template-5.png\" srcset=\"https://199lj33nqk3p88xz03dvn481-wpengine.netdna-ssl.com/wp-content/uploads/2022/08/Blog-Featured-Image-Template-5.png 1080w, https://199lj33nqk3p88xz03dvn481-wpengine.netdna-ssl.com/wp-content/uploads/2022/08/Blog-Featured-Image-Template-5-480x297.png 480w\" width=\"1080\"/></a>\n",
       " <h2 class=\"entry-title\"><a href=\"https://codeup.com/featured/series-part-3-web-development/\">What Jobs Can You Get After a Coding Bootcamp? Part 3: Web Development</a></h2>\n",
       " <p class=\"post-meta\"><span class=\"published\">Aug 2, 2022</span> | <a href=\"https://codeup.com/category/featured/\" rel=\"tag\">Featured</a>, <a href=\"https://codeup.com/category/web-development/\" rel=\"tag\">Full Stack Web Development</a></p><div class=\"post-content\"><div class=\"post-content-inner\"><p>If you’re considering a career in web development, but don’t know what to expect, continue reading and we will help...</p>\n",
       " </div></div>\n",
       " </article>,\n",
       " <article class=\"et_pb_post clearfix et_pb_blog_item_1_0 post-18931 post type-post status-publish format-standard has-post-thumbnail hentry category-codeup-news category-web-development\" id=\"post-18931\">\n",
       " <div class=\"et_pb_image_container\"><a class=\"entry-featured-image-url\" href=\"https://codeup.com/codeup-news/codeup-dallas-campus/\"><img alt=\"Codeup’s New Dallas Campus\" class=\"\" height=\"250\" loading=\"lazy\" sizes=\"(max-width:479px) 479px, 100vw \" src=\"https://199lj33nqk3p88xz03dvn481-wpengine.netdna-ssl.com/wp-content/uploads/2022/07/CA-Blog-Header-2-400x250.jpg\" srcset=\"https://199lj33nqk3p88xz03dvn481-wpengine.netdna-ssl.com/wp-content/uploads/2022/07/CA-Blog-Header-2.jpg 479w, https://199lj33nqk3p88xz03dvn481-wpengine.netdna-ssl.com/wp-content/uploads/2022/07/CA-Blog-Header-2-400x250.jpg 480w \" width=\"400\"/></a></div>\n",
       " <h2 class=\"entry-title\"><a href=\"https://codeup.com/codeup-news/codeup-dallas-campus/\">Codeup’s New Dallas Campus</a></h2>\n",
       " <p class=\"post-meta\"><span class=\"published\">Jul 25, 2022</span> | <a href=\"https://codeup.com/category/codeup-news/\" rel=\"tag\">Codeup News</a>, <a href=\"https://codeup.com/category/web-development/\" rel=\"tag\">Full Stack Web Development</a></p><div class=\"post-content\"><div class=\"post-content-inner\"><p>Codeup’s Dallas campus has a new location! For more than two years, Codeup has been operating out of our original...</p>\n",
       " </div><a class=\"more-link\" href=\"https://codeup.com/codeup-news/codeup-dallas-campus/\">read more</a></div>\n",
       " </article>,\n",
       " <article class=\"et_pb_post clearfix et_pb_blog_item_1_1 post-18809 post type-post status-publish format-standard has-post-thumbnail hentry category-codeup-news\" id=\"post-18809\">\n",
       " <div class=\"et_pb_image_container\"><a class=\"entry-featured-image-url\" href=\"https://codeup.com/codeup-news/codeup-tv-commercial/\"><img alt=\"Codeup TV Commercial\" class=\"\" height=\"250\" loading=\"lazy\" sizes=\"(max-width:479px) 479px, 100vw \" src=\"https://199lj33nqk3p88xz03dvn481-wpengine.netdna-ssl.com/wp-content/uploads/2022/07/3-400x250.jpg\" srcset=\"https://199lj33nqk3p88xz03dvn481-wpengine.netdna-ssl.com/wp-content/uploads/2022/07/3.jpg 479w, https://199lj33nqk3p88xz03dvn481-wpengine.netdna-ssl.com/wp-content/uploads/2022/07/3-400x250.jpg 480w \" width=\"400\"/></a></div>\n",
       " <h2 class=\"entry-title\"><a href=\"https://codeup.com/codeup-news/codeup-tv-commercial/\">Codeup TV Commercial</a></h2>\n",
       " <p class=\"post-meta\"><span class=\"published\">Jul 20, 2022</span> | <a href=\"https://codeup.com/category/codeup-news/\" rel=\"tag\">Codeup News</a></p><div class=\"post-content\"><div class=\"post-content-inner\"><p>Codeup has officially made its TV debut! Our community of students, staff and CEO gathered to create the first-ever...</p>\n",
       " </div><a class=\"more-link\" href=\"https://codeup.com/codeup-news/codeup-tv-commercial/\">read more</a></div>\n",
       " </article>,\n",
       " <article class=\"et_pb_post clearfix et_pb_blog_item_1_2 post-18869 post type-post status-publish format-standard has-post-thumbnail hentry category-featured\" id=\"post-18869\">\n",
       " <div class=\"et_pb_image_container\"><a class=\"entry-featured-image-url\" href=\"https://codeup.com/featured/what-jobs-can-you-get-after-a-coding-bootcamp-part-2-cloud-administration/\"><img alt=\"What Jobs Can You Get After a Coding Bootcamp? Part 2: Cloud Administration\" class=\"\" height=\"250\" loading=\"lazy\" sizes=\"(max-width:479px) 479px, 100vw \" src=\"https://199lj33nqk3p88xz03dvn481-wpengine.netdna-ssl.com/wp-content/uploads/2022/07/CA-Blog-Header-1-400x250.jpg\" srcset=\"https://199lj33nqk3p88xz03dvn481-wpengine.netdna-ssl.com/wp-content/uploads/2022/07/CA-Blog-Header-1.jpg 479w, https://199lj33nqk3p88xz03dvn481-wpengine.netdna-ssl.com/wp-content/uploads/2022/07/CA-Blog-Header-1-400x250.jpg 480w \" width=\"400\"/></a></div>\n",
       " <h2 class=\"entry-title\"><a href=\"https://codeup.com/featured/what-jobs-can-you-get-after-a-coding-bootcamp-part-2-cloud-administration/\">What Jobs Can You Get After a Coding Bootcamp? Part 2: Cloud Administration</a></h2>\n",
       " <p class=\"post-meta\"><span class=\"published\">Jul 14, 2022</span> | <a href=\"https://codeup.com/category/featured/\" rel=\"tag\">Featured</a></p><div class=\"post-content\"><div class=\"post-content-inner\"><p>Have you been considering a career in Cloud Administration, but have no idea what your job title or potential salary...</p>\n",
       " </div><a class=\"more-link\" href=\"https://codeup.com/featured/what-jobs-can-you-get-after-a-coding-bootcamp-part-2-cloud-administration/\">read more</a></div>\n",
       " </article>,\n",
       " <article class=\"et_pb_post clearfix et_pb_blog_item_1_3 post-18698 post type-post status-publish format-standard has-post-thumbnail hentry category-data-science category-featured category-tips-for-prospective-students tag-alumni-experience tag-bootcamp tag-codeup-programs tag-coding-bootcamp tag-coding-bootcamp-affordable tag-coding-bootcamps tag-data-science tag-learn-python\" id=\"post-18698\">\n",
       " <div class=\"et_pb_image_container\"><a class=\"entry-featured-image-url\" href=\"https://codeup.com/data-science/jobs-after-a-coding-bootcamp-part-1-data-science/\"><img alt=\"What Jobs Can You Get After a Coding Bootcamp? Part 1: Data Science\" class=\"\" height=\"250\" loading=\"lazy\" sizes=\"(max-width:479px) 479px, 100vw \" src=\"https://199lj33nqk3p88xz03dvn481-wpengine.netdna-ssl.com/wp-content/uploads/2022/07/CA-Blog-Header-1-400x250.png\" srcset=\"https://199lj33nqk3p88xz03dvn481-wpengine.netdna-ssl.com/wp-content/uploads/2022/07/CA-Blog-Header-1.png 479w, https://199lj33nqk3p88xz03dvn481-wpengine.netdna-ssl.com/wp-content/uploads/2022/07/CA-Blog-Header-1-400x250.png 480w \" width=\"400\"/></a></div>\n",
       " <h2 class=\"entry-title\"><a href=\"https://codeup.com/data-science/jobs-after-a-coding-bootcamp-part-1-data-science/\">What Jobs Can You Get After a Coding Bootcamp? Part 1: Data Science</a></h2>\n",
       " <p class=\"post-meta\"><span class=\"published\">Jul 7, 2022</span> | <a href=\"https://codeup.com/category/data-science/\" rel=\"tag\">Data Science</a>, <a href=\"https://codeup.com/category/featured/\" rel=\"tag\">Featured</a>, <a href=\"https://codeup.com/category/tips-for-prospective-students/\" rel=\"tag\">Tips for Prospective Students</a></p><div class=\"post-content\"><div class=\"post-content-inner\"><p>If you are interested in embarking on a career in tech, you’re probably wondering what your new job title could be,...</p>\n",
       " </div><a class=\"more-link\" href=\"https://codeup.com/data-science/jobs-after-a-coding-bootcamp-part-1-data-science/\">read more</a></div>\n",
       " </article>,\n",
       " <article class=\"et_pb_post clearfix et_pb_blog_item_1_4 post-18695 post type-post status-publish format-standard has-post-thumbnail hentry category-san-antonio category-workshops\" id=\"post-18695\">\n",
       " <div class=\"et_pb_image_container\"><a class=\"entry-featured-image-url\" href=\"https://codeup.com/workshops/san-antonio/in-person-workshop-learn-to-code-javascript-on-7-26/\"><img alt=\"In-Person Workshop: Learn to Code – JavaScript on 7/26\" class=\"\" height=\"250\" loading=\"lazy\" sizes=\"(max-width:479px) 479px, 100vw \" src=\"https://199lj33nqk3p88xz03dvn481-wpengine.netdna-ssl.com/wp-content/uploads/2022/07/EVNTS-400x250.jpg\" srcset=\"https://199lj33nqk3p88xz03dvn481-wpengine.netdna-ssl.com/wp-content/uploads/2022/07/EVNTS.jpg 479w, https://199lj33nqk3p88xz03dvn481-wpengine.netdna-ssl.com/wp-content/uploads/2022/07/EVNTS-400x250.jpg 480w \" width=\"400\"/></a></div>\n",
       " <h2 class=\"entry-title\"><a href=\"https://codeup.com/workshops/san-antonio/in-person-workshop-learn-to-code-javascript-on-7-26/\">In-Person Workshop: Learn to Code – JavaScript on 7/26</a></h2>\n",
       " <p class=\"post-meta\"><span class=\"published\">Jul 6, 2022</span> | <a href=\"https://codeup.com/category/workshops/san-antonio/\" rel=\"tag\">San Antonio</a>, <a href=\"https://codeup.com/category/workshops/\" rel=\"tag\">Workshops</a></p><div class=\"post-content\"><div class=\"post-content-inner\"><p>Join us for our live in-person JavaScript crash course, where we will dig into one of the fastest-growing languages in...</p>\n",
       " </div><a class=\"more-link\" href=\"https://codeup.com/workshops/san-antonio/in-person-workshop-learn-to-code-javascript-on-7-26/\">read more</a></div>\n",
       " </article>,\n",
       " <article class=\"et_pb_post clearfix et_pb_blog_item_1_5 post-18613 post type-post status-publish format-standard has-post-thumbnail hentry category-san-antonio category-workshops tag-alumni-experience tag-bootcamp tag-coding-bootcamp tag-data-science tag-science-and-tech\" id=\"post-18613\">\n",
       " <div class=\"et_pb_image_container\"><a class=\"entry-featured-image-url\" href=\"https://codeup.com/workshops/in-person-workshop-learn-to-code-python-on-7-19/\"><img alt=\"In-Person Workshop: Learn to Code – Python on 7/19\" class=\"\" height=\"250\" loading=\"lazy\" sizes=\"(max-width:479px) 479px, 100vw \" src=\"https://199lj33nqk3p88xz03dvn481-wpengine.netdna-ssl.com/wp-content/uploads/2022/06/Blogs-34-400x250.png\" srcset=\"https://199lj33nqk3p88xz03dvn481-wpengine.netdna-ssl.com/wp-content/uploads/2022/06/Blogs-34.png 479w, https://199lj33nqk3p88xz03dvn481-wpengine.netdna-ssl.com/wp-content/uploads/2022/06/Blogs-34-400x250.png 480w \" width=\"400\"/></a></div>\n",
       " <h2 class=\"entry-title\"><a href=\"https://codeup.com/workshops/in-person-workshop-learn-to-code-python-on-7-19/\">In-Person Workshop: Learn to Code – Python on 7/19</a></h2>\n",
       " <p class=\"post-meta\"><span class=\"published\">Jun 20, 2022</span> | <a href=\"https://codeup.com/category/workshops/san-antonio/\" rel=\"tag\">San Antonio</a>, <a href=\"https://codeup.com/category/workshops/\" rel=\"tag\">Workshops</a></p><div class=\"post-content\"><div class=\"post-content-inner\"><p>According to LinkedIn, the \"#1 Most Promising Job\" is data science! One of the major building blocks to data science...</p>\n",
       " </div><a class=\"more-link\" href=\"https://codeup.com/workshops/in-person-workshop-learn-to-code-python-on-7-19/\">read more</a></div>\n",
       " </article>,\n",
       " <article class=\"et_pb_post clearfix et_pb_blog_item_1_6 post-18395 post type-post status-publish format-standard has-post-thumbnail hentry category-dallas category-dallas-newsletter category-workshops\" id=\"post-18395\">\n",
       " <div class=\"et_pb_image_container\"><a class=\"entry-featured-image-url\" href=\"https://codeup.com/workshops/dallas/free-javascript-workshop-at-codeup-dallas-on-6-28/\"><img alt=\"Free JavaScript Workshop at Codeup Dallas on 6/28\" class=\"\" height=\"250\" loading=\"lazy\" sizes=\"(max-width:479px) 479px, 100vw \" src=\"https://199lj33nqk3p88xz03dvn481-wpengine.netdna-ssl.com/wp-content/uploads/2022/05/EVNTS-34-400x250.png\" srcset=\"https://199lj33nqk3p88xz03dvn481-wpengine.netdna-ssl.com/wp-content/uploads/2022/05/EVNTS-34.png 479w, https://199lj33nqk3p88xz03dvn481-wpengine.netdna-ssl.com/wp-content/uploads/2022/05/EVNTS-34-400x250.png 480w \" width=\"400\"/></a></div>\n",
       " <h2 class=\"entry-title\"><a href=\"https://codeup.com/workshops/dallas/free-javascript-workshop-at-codeup-dallas-on-6-28/\">Free JavaScript Workshop at Codeup Dallas on 6/28</a></h2>\n",
       " <p class=\"post-meta\"><span class=\"published\">Jun 19, 2022</span> | <a href=\"https://codeup.com/category/workshops/dallas/\" rel=\"tag\">Dallas</a>, <a href=\"https://codeup.com/category/dallas-newsletter/\" rel=\"tag\">Dallas Newsletter</a>, <a href=\"https://codeup.com/category/workshops/\" rel=\"tag\">Workshops</a></p><div class=\"post-content\"><div class=\"post-content-inner\"><p>Event Info: Location - Codeup Dallas Time - 6 pm Come Learn JavaScript Join us for our live in-person JavaScript crash...</p>\n",
       " </div><a class=\"more-link\" href=\"https://codeup.com/workshops/dallas/free-javascript-workshop-at-codeup-dallas-on-6-28/\">read more</a></div>\n",
       " </article>,\n",
       " <article class=\"et_pb_post clearfix et_pb_blog_item_1_7 post-18544 post type-post status-publish format-standard has-post-thumbnail hentry category-featured category-it-training category-tips-for-prospective-students tag-cloud tag-cloud-administration tag-codeup tag-coding-bootcamp tag-science-and-tech\" id=\"post-18544\">\n",
       " <div class=\"et_pb_image_container\"><a class=\"entry-featured-image-url\" href=\"https://codeup.com/tips-for-prospective-students/is-our-cloud-administration-program-right-for-you/\"><img alt=\"Is Our Cloud Administration Program Right for You?\" class=\"\" height=\"250\" loading=\"lazy\" sizes=\"(max-width:479px) 479px, 100vw \" src=\"https://199lj33nqk3p88xz03dvn481-wpengine.netdna-ssl.com/wp-content/uploads/2022/06/Blogs-31-400x250.png\" srcset=\"https://199lj33nqk3p88xz03dvn481-wpengine.netdna-ssl.com/wp-content/uploads/2022/06/Blogs-31.png 479w, https://199lj33nqk3p88xz03dvn481-wpengine.netdna-ssl.com/wp-content/uploads/2022/06/Blogs-31-400x250.png 480w \" width=\"400\"/></a></div>\n",
       " <h2 class=\"entry-title\"><a href=\"https://codeup.com/tips-for-prospective-students/is-our-cloud-administration-program-right-for-you/\">Is Our Cloud Administration Program Right for You?</a></h2>\n",
       " <p class=\"post-meta\"><span class=\"published\">Jun 8, 2022</span> | <a href=\"https://codeup.com/category/featured/\" rel=\"tag\">Featured</a>, <a href=\"https://codeup.com/category/it-training/\" rel=\"tag\">IT Training</a>, <a href=\"https://codeup.com/category/tips-for-prospective-students/\" rel=\"tag\">Tips for Prospective Students</a></p><div class=\"post-content\"><div class=\"post-content-inner\"><p>Changing careers can be scary. The first thing you may be asking yourself is, “where do I begin?” If you are looking...</p>\n",
       " </div><a class=\"more-link\" href=\"https://codeup.com/tips-for-prospective-students/is-our-cloud-administration-program-right-for-you/\">read more</a></div>\n",
       " </article>,\n",
       " <article class=\"et_pb_post clearfix et_pb_blog_item_1_8 post-18586 post type-post status-publish format-standard has-post-thumbnail hentry category-dallas category-san-antonio category-virtual category-workshops tag-alumni-experience tag-bootcamp tag-career-change tag-coding-bootcamp tag-data-science tag-full-stack-web-development tag-learn-to-code tag-rubber-duck tag-science-and-tech tag-student\" id=\"post-18586\">\n",
       " <div class=\"et_pb_image_container\"><a class=\"entry-featured-image-url\" href=\"https://codeup.com/workshops/pride-in-tech-panel/\"><img alt=\"PRIDE in Tech Panel\" class=\"\" height=\"250\" loading=\"lazy\" sizes=\"(max-width:479px) 479px, 100vw \" src=\"https://199lj33nqk3p88xz03dvn481-wpengine.netdna-ssl.com/wp-content/uploads/2022/06/Blogs-32-400x250.png\" srcset=\"https://199lj33nqk3p88xz03dvn481-wpengine.netdna-ssl.com/wp-content/uploads/2022/06/Blogs-32.png 479w, https://199lj33nqk3p88xz03dvn481-wpengine.netdna-ssl.com/wp-content/uploads/2022/06/Blogs-32-400x250.png 480w \" width=\"400\"/></a></div>\n",
       " <h2 class=\"entry-title\"><a href=\"https://codeup.com/workshops/pride-in-tech-panel/\">PRIDE in Tech Panel</a></h2>\n",
       " <p class=\"post-meta\"><span class=\"published\">Jun 5, 2022</span> | <a href=\"https://codeup.com/category/workshops/dallas/\" rel=\"tag\">Dallas</a>, <a href=\"https://codeup.com/category/workshops/san-antonio/\" rel=\"tag\">San Antonio</a>, <a href=\"https://codeup.com/category/workshops/virtual/\" rel=\"tag\">Virtual</a>, <a href=\"https://codeup.com/category/workshops/\" rel=\"tag\">Workshops</a></p><div class=\"post-content\"><div class=\"post-content-inner\"><p>In celebration of PRIDE month, join our Codeup Alumni from the LGBTQIA+ community as they discuss their careers in...</p>\n",
       " </div><a class=\"more-link\" href=\"https://codeup.com/workshops/pride-in-tech-panel/\">read more</a></div>\n",
       " </article>,\n",
       " <article class=\"et_pb_post clearfix et_pb_blog_item_1_9 post-14891 post type-post status-publish format-standard has-post-thumbnail hentry category-codeup-news\" id=\"post-14891\">\n",
       " <div class=\"et_pb_image_container\"><a class=\"entry-featured-image-url\" href=\"https://codeup.com/codeup-news/inclusion-at-codeup-during-pride-month-and-always/\"><img alt=\"Inclusion at Codeup During Pride Month (and Always)\" class=\"\" height=\"250\" loading=\"lazy\" sizes=\"(max-width:479px) 479px, 100vw \" src=\"https://199lj33nqk3p88xz03dvn481-wpengine.netdna-ssl.com/wp-content/uploads/2021/06/Inclusion1200x638.Socialpng-400x250.png\" srcset=\"https://199lj33nqk3p88xz03dvn481-wpengine.netdna-ssl.com/wp-content/uploads/2021/06/Inclusion1200x638.Socialpng.png 479w, https://199lj33nqk3p88xz03dvn481-wpengine.netdna-ssl.com/wp-content/uploads/2021/06/Inclusion1200x638.Socialpng-400x250.png 480w \" width=\"400\"/></a></div>\n",
       " <h2 class=\"entry-title\"><a href=\"https://codeup.com/codeup-news/inclusion-at-codeup-during-pride-month-and-always/\">Inclusion at Codeup During Pride Month (and Always)</a></h2>\n",
       " <p class=\"post-meta\"><span class=\"published\">Jun 1, 2022</span> | <a href=\"https://codeup.com/category/codeup-news/\" rel=\"tag\">Codeup News</a></p><div class=\"post-content\"><div class=\"post-content-inner\"><p>Happy Pride Month! Pride Month is a dedicated time to celebrate and support the LGBTQIA+ community. At Codeup, one of...</p>\n",
       " </div><a class=\"more-link\" href=\"https://codeup.com/codeup-news/inclusion-at-codeup-during-pride-month-and-always/\">read more</a></div>\n",
       " </article>,\n",
       " <article class=\"et_pb_post clearfix et_pb_blog_item_1_10 post-18527 post type-post status-publish format-standard has-post-thumbnail hentry category-tips-for-prospective-students tag-bootcamp tag-coding-bootcamp tag-data-science tag-full-stack-web-development tag-science-and-tech tag-web-development\" id=\"post-18527\">\n",
       " <div class=\"et_pb_image_container\"><a class=\"entry-featured-image-url\" href=\"https://codeup.com/tips-for-prospective-students/mental-health-first-aid-training/\"><img alt=\"Mental Health First Aid Training\" class=\"\" height=\"250\" loading=\"lazy\" sizes=\"(max-width:479px) 479px, 100vw \" src=\"https://199lj33nqk3p88xz03dvn481-wpengine.netdna-ssl.com/wp-content/uploads/2022/05/Blogs-30-400x250.png\" srcset=\"https://199lj33nqk3p88xz03dvn481-wpengine.netdna-ssl.com/wp-content/uploads/2022/05/Blogs-30.png 479w, https://199lj33nqk3p88xz03dvn481-wpengine.netdna-ssl.com/wp-content/uploads/2022/05/Blogs-30-400x250.png 480w \" width=\"400\"/></a></div>\n",
       " <h2 class=\"entry-title\"><a href=\"https://codeup.com/tips-for-prospective-students/mental-health-first-aid-training/\">Mental Health First Aid Training</a></h2>\n",
       " <p class=\"post-meta\"><span class=\"published\">May 31, 2022</span> | <a href=\"https://codeup.com/category/tips-for-prospective-students/\" rel=\"tag\">Tips for Prospective Students</a></p><div class=\"post-content\"><div class=\"post-content-inner\"><p>As a student of Codeup, going through a massive career transition can be mentally taxing. Did you know that members of...</p>\n",
       " </div><a class=\"more-link\" href=\"https://codeup.com/tips-for-prospective-students/mental-health-first-aid-training/\">read more</a></div>\n",
       " </article>,\n",
       " <article class=\"et_pb_post clearfix et_pb_blog_item_1_11 post-18510 post type-post status-publish format-standard has-post-thumbnail hentry category-dallas category-dallas-newsletter category-events category-workshops\" id=\"post-18510\">\n",
       " <div class=\"et_pb_image_container\"><a class=\"entry-featured-image-url\" href=\"https://codeup.com/workshops/codeup-dallas-how-to-succeed-at-a-coding-bootcamp-on-june-9th/\"><img alt=\"Codeup Dallas: How to Succeed at a Coding Bootcamp on June 9th\" class=\"\" height=\"250\" loading=\"lazy\" sizes=\"(max-width:479px) 479px, 100vw \" src=\"https://199lj33nqk3p88xz03dvn481-wpengine.netdna-ssl.com/wp-content/uploads/2022/05/Blogs-28-400x250.png\" srcset=\"https://199lj33nqk3p88xz03dvn481-wpengine.netdna-ssl.com/wp-content/uploads/2022/05/Blogs-28.png 479w, https://199lj33nqk3p88xz03dvn481-wpengine.netdna-ssl.com/wp-content/uploads/2022/05/Blogs-28-400x250.png 480w \" width=\"400\"/></a></div>\n",
       " <h2 class=\"entry-title\"><a href=\"https://codeup.com/workshops/codeup-dallas-how-to-succeed-at-a-coding-bootcamp-on-june-9th/\">Codeup Dallas: How to Succeed at a Coding Bootcamp on June 9th</a></h2>\n",
       " <p class=\"post-meta\"><span class=\"published\">May 23, 2022</span> | <a href=\"https://codeup.com/category/workshops/dallas/\" rel=\"tag\">Dallas</a>, <a href=\"https://codeup.com/category/dallas-newsletter/\" rel=\"tag\">Dallas Newsletter</a>, <a href=\"https://codeup.com/category/events/\" rel=\"tag\">Events</a>, <a href=\"https://codeup.com/category/workshops/\" rel=\"tag\">Workshops</a></p><div class=\"post-content\"><div class=\"post-content-inner\"><p>This event is the perfect opportunity for people that have been wondering what to expect in a coding bootcamp and how...</p>\n",
       " </div><a class=\"more-link\" href=\"https://codeup.com/workshops/codeup-dallas-how-to-succeed-at-a-coding-bootcamp-on-june-9th/\">read more</a></div>\n",
       " </article>,\n",
       " <article class=\"et_pb_post clearfix et_pb_blog_item_1_12 post-18356 post type-post status-publish format-standard has-post-thumbnail hentry category-codeup-news category-featured category-it-training category-tips-for-prospective-students tag-bootcamp tag-cloud tag-cloud-admin tag-cloud-engineer tag-coding-bootcamp tag-cybersecurity tag-science-and-tech\" id=\"post-18356\">\n",
       " <div class=\"et_pb_image_container\"><a class=\"entry-featured-image-url\" href=\"https://codeup.com/featured/5-reasons-to-attend-our-new-cloud-administration-program/\"><img alt=\"5 Reasons To Attend Our New Cloud Administration Program\" class=\"\" height=\"250\" loading=\"lazy\" sizes=\"(max-width:479px) 479px, 100vw \" src=\"https://199lj33nqk3p88xz03dvn481-wpengine.netdna-ssl.com/wp-content/uploads/2022/05/Blogs-25-400x250.png\" srcset=\"https://199lj33nqk3p88xz03dvn481-wpengine.netdna-ssl.com/wp-content/uploads/2022/05/Blogs-25.png 479w, https://199lj33nqk3p88xz03dvn481-wpengine.netdna-ssl.com/wp-content/uploads/2022/05/Blogs-25-400x250.png 480w \" width=\"400\"/></a></div>\n",
       " <h2 class=\"entry-title\"><a href=\"https://codeup.com/featured/5-reasons-to-attend-our-new-cloud-administration-program/\">5 Reasons To Attend Our New Cloud Administration Program</a></h2>\n",
       " <p class=\"post-meta\"><span class=\"published\">May 17, 2022</span> | <a href=\"https://codeup.com/category/codeup-news/\" rel=\"tag\">Codeup News</a>, <a href=\"https://codeup.com/category/featured/\" rel=\"tag\">Featured</a>, <a href=\"https://codeup.com/category/it-training/\" rel=\"tag\">IT Training</a>, <a href=\"https://codeup.com/category/tips-for-prospective-students/\" rel=\"tag\">Tips for Prospective Students</a></p><div class=\"post-content\"><div class=\"post-content-inner\"><p>Come Work In The Cloud When your Monday rolls around, do you start to get a sense of dread? That might be a sign to...</p>\n",
       " </div><a class=\"more-link\" href=\"https://codeup.com/featured/5-reasons-to-attend-our-new-cloud-administration-program/\">read more</a></div>\n",
       " </article>,\n",
       " <article class=\"et_pb_post clearfix et_pb_blog_item_1_13 post-18363 post type-post status-publish format-standard has-post-thumbnail hentry category-events category-san-antonio category-workshops\" id=\"post-18363\">\n",
       " <div class=\"et_pb_image_container\"><a class=\"entry-featured-image-url\" href=\"https://codeup.com/workshops/learn-to-code-python-on-5-21/\"><img alt=\"Learn to Code: Python on 5/21\" class=\"\" height=\"250\" loading=\"lazy\" sizes=\"(max-width:479px) 479px, 100vw \" src=\"https://199lj33nqk3p88xz03dvn481-wpengine.netdna-ssl.com/wp-content/uploads/2022/05/Blogs-26-400x250.png\" srcset=\"https://199lj33nqk3p88xz03dvn481-wpengine.netdna-ssl.com/wp-content/uploads/2022/05/Blogs-26.png 479w, https://199lj33nqk3p88xz03dvn481-wpengine.netdna-ssl.com/wp-content/uploads/2022/05/Blogs-26-400x250.png 480w \" width=\"400\"/></a></div>\n",
       " <h2 class=\"entry-title\"><a href=\"https://codeup.com/workshops/learn-to-code-python-on-5-21/\">Learn to Code: Python on 5/21</a></h2>\n",
       " <p class=\"post-meta\"><span class=\"published\">May 16, 2022</span> | <a href=\"https://codeup.com/category/events/\" rel=\"tag\">Events</a>, <a href=\"https://codeup.com/category/workshops/san-antonio/\" rel=\"tag\">San Antonio</a>, <a href=\"https://codeup.com/category/workshops/\" rel=\"tag\">Workshops</a></p><div class=\"post-content\"><div class=\"post-content-inner\"><p>According to LinkedIn, the \"#1 Most Promising Job\" is data science! One of the major building blocks of data science...</p>\n",
       " </div><a class=\"more-link\" href=\"https://codeup.com/workshops/learn-to-code-python-on-5-21/\">read more</a></div>\n",
       " </article>,\n",
       " <article class=\"et_pb_post clearfix et_pb_blog_item_1_14 post-18350 post type-post status-publish format-standard has-post-thumbnail hentry category-codeup-news category-dallas-newsletter category-featured tag-bootcamp tag-coding-bootcamp tag-data-science tag-full-stack-web-development tag-science-and-tech tag-web-development\" id=\"post-18350\">\n",
       " <div class=\"et_pb_image_container\"><a class=\"entry-featured-image-url\" href=\"https://codeup.com/dallas-newsletter/codeup-dallas-joins-career-day/\"><img alt=\"Codeup Dallas Joins Career Day\" class=\"\" height=\"250\" loading=\"lazy\" sizes=\"(max-width:479px) 479px, 100vw \" src=\"https://199lj33nqk3p88xz03dvn481-wpengine.netdna-ssl.com/wp-content/uploads/2022/05/Blogs-24-400x250.png\" srcset=\"https://199lj33nqk3p88xz03dvn481-wpengine.netdna-ssl.com/wp-content/uploads/2022/05/Blogs-24.png 479w, https://199lj33nqk3p88xz03dvn481-wpengine.netdna-ssl.com/wp-content/uploads/2022/05/Blogs-24-400x250.png 480w \" width=\"400\"/></a></div>\n",
       " <h2 class=\"entry-title\"><a href=\"https://codeup.com/dallas-newsletter/codeup-dallas-joins-career-day/\">Codeup Dallas Joins Career Day</a></h2>\n",
       " <p class=\"post-meta\"><span class=\"published\">May 16, 2022</span> | <a href=\"https://codeup.com/category/codeup-news/\" rel=\"tag\">Codeup News</a>, <a href=\"https://codeup.com/category/dallas-newsletter/\" rel=\"tag\">Dallas Newsletter</a>, <a href=\"https://codeup.com/category/featured/\" rel=\"tag\">Featured</a></p><div class=\"post-content\"><div class=\"post-content-inner\"><p>Last week our Codeup Dallas team participated in Career Day at James Madison High School which also included students...</p>\n",
       " </div><a class=\"more-link\" href=\"https://codeup.com/dallas-newsletter/codeup-dallas-joins-career-day/\">read more</a></div>\n",
       " </article>]"
      ]
     },
     "execution_count": 8,
     "metadata": {},
     "output_type": "execute_result"
    }
   ],
   "source": [
    "soup.select(\"article\")"
   ]
  },
  {
   "cell_type": "code",
   "execution_count": 9,
   "id": "849d50cd",
   "metadata": {},
   "outputs": [],
   "source": [
    "blog_articles=  soup.find_all('article')"
   ]
  },
  {
   "cell_type": "code",
   "execution_count": 10,
   "id": "00ea6165",
   "metadata": {},
   "outputs": [
    {
     "name": "stdout",
     "output_type": "stream",
     "text": [
      "Is a Career in Tech Recession-Proof?\n",
      "Aug 12, 2022 | Cloud Administration, Data Science, Featured, Full Stack Web DevelopmentGiven the current economic climate, many economists are considering the U.S. to be entering a recession. This can...\n",
      "Codeup X Superhero Car Show & Comic Con\n",
      "Aug 10, 2022 | Codeup News, EventsCodeup had a blast at the San Antonio Superhero Car Show and Comic Con! We had a booth for the all four days of the...\n",
      "What Jobs Can You Get After a Coding Bootcamp? Part 3: Web Development\n",
      "Aug 2, 2022 | Featured, Full Stack Web DevelopmentIf you’re considering a career in web development, but don’t know what to expect, continue reading and we will help...\n",
      "Codeup’s New Dallas Campus\n",
      "Jul 25, 2022 | Codeup News, Full Stack Web DevelopmentCodeup’s Dallas campus has a new location! For more than two years, Codeup has been operating out of our original...\n",
      "read more\n",
      "Codeup TV Commercial\n",
      "Jul 20, 2022 | Codeup NewsCodeup has officially made its TV debut! Our community of students, staff and CEO gathered to create the first-ever...\n",
      "read more\n",
      "What Jobs Can You Get After a Coding Bootcamp? Part 2: Cloud Administration\n",
      "Jul 14, 2022 | FeaturedHave you been considering a career in Cloud Administration, but have no idea what your job title or potential salary...\n",
      "read more\n",
      "What Jobs Can You Get After a Coding Bootcamp? Part 1: Data Science\n",
      "Jul 7, 2022 | Data Science, Featured, Tips for Prospective StudentsIf you are interested in embarking on a career in tech, you’re probably wondering what your new job title could be,...\n",
      "read more\n",
      "In-Person Workshop: Learn to Code – JavaScript on 7/26\n",
      "Jul 6, 2022 | San Antonio, WorkshopsJoin us for our live in-person JavaScript crash course, where we will dig into one of the fastest-growing languages in...\n",
      "read more\n",
      "In-Person Workshop: Learn to Code – Python on 7/19\n",
      "Jun 20, 2022 | San Antonio, WorkshopsAccording to LinkedIn, the \"#1 Most Promising Job\" is data science! One of the major building blocks to data science...\n",
      "read more\n",
      "Free JavaScript Workshop at Codeup Dallas on 6/28\n",
      "Jun 19, 2022 | Dallas, Dallas Newsletter, WorkshopsEvent Info: Location - Codeup Dallas Time - 6 pm Come Learn JavaScript Join us for our live in-person JavaScript crash...\n",
      "read more\n",
      "Is Our Cloud Administration Program Right for You?\n",
      "Jun 8, 2022 | Featured, IT Training, Tips for Prospective StudentsChanging careers can be scary. The first thing you may be asking yourself is, “where do I begin?” If you are looking...\n",
      "read more\n",
      "PRIDE in Tech Panel\n",
      "Jun 5, 2022 | Dallas, San Antonio, Virtual, WorkshopsIn celebration of PRIDE month, join our Codeup Alumni from the LGBTQIA+ community as they discuss their careers in...\n",
      "read more\n",
      "Inclusion at Codeup During Pride Month (and Always)\n",
      "Jun 1, 2022 | Codeup NewsHappy Pride Month! Pride Month is a dedicated time to celebrate and support the LGBTQIA+ community. At Codeup, one of...\n",
      "read more\n",
      "Mental Health First Aid Training\n",
      "May 31, 2022 | Tips for Prospective StudentsAs a student of Codeup, going through a massive career transition can be mentally taxing. Did you know that members of...\n",
      "read more\n",
      "Codeup Dallas: How to Succeed at a Coding Bootcamp on June 9th\n",
      "May 23, 2022 | Dallas, Dallas Newsletter, Events, WorkshopsThis event is the perfect opportunity for people that have been wondering what to expect in a coding bootcamp and how...\n",
      "read more\n",
      "5 Reasons To Attend Our New Cloud Administration Program\n",
      "May 17, 2022 | Codeup News, Featured, IT Training, Tips for Prospective StudentsCome Work In The Cloud When your Monday rolls around, do you start to get a sense of dread? That might be a sign to...\n",
      "read more\n",
      "Learn to Code: Python on 5/21\n",
      "May 16, 2022 | Events, San Antonio, WorkshopsAccording to LinkedIn, the \"#1 Most Promising Job\" is data science! One of the major building blocks of data science...\n",
      "read more\n",
      "Codeup Dallas Joins Career Day\n",
      "May 16, 2022 | Codeup News, Dallas Newsletter, FeaturedLast week our Codeup Dallas team participated in Career Day at James Madison High School which also included students...\n",
      "read more\n"
     ]
    }
   ],
   "source": [
    "#extracting attirbutes from HTML elements\n",
    "for blog in blog_articles:\n",
    "    print(blog.text.strip())\n",
    "    \n"
   ]
  },
  {
   "cell_type": "code",
   "execution_count": 25,
   "id": "e32811b9",
   "metadata": {},
   "outputs": [],
   "source": []
  },
  {
   "cell_type": "code",
   "execution_count": 27,
   "id": "794dc76e",
   "metadata": {},
   "outputs": [],
   "source": [
    "def get_blog_articles(urls):\n",
    "    '''This function takes in a list of urls, parses it using BeautifulSoup and returns a list of dictionaries of the \n",
    "    title as the key and content as the value'''\n",
    "    lst=[]\n",
    "    for url in urls:\n",
    "        headers = {'User-Agent': 'Codeup Data Science'}\n",
    "        response = get(url,headers=headers)\n",
    "        soup= BeautifulSoup(response.content, 'html.parser')\n",
    "        title = soup.title.string\n",
    "        article = soup.find('article')\n",
    "        article_text = article.text\n",
    "        output ={'title': title,\n",
    "              'content': article_text}\n",
    "        lst.append(output)\n",
    "        return lst"
   ]
  },
  {
   "cell_type": "code",
   "execution_count": null,
   "id": "4519950a",
   "metadata": {},
   "outputs": [],
   "source": [
    "get_blog_articles()"
   ]
  },
  {
   "cell_type": "markdown",
   "id": "38747192",
   "metadata": {},
   "source": [
    "# 2.News Articles\n",
    "\n",
    "##### We will now be scraping text data from inshorts, a website that provides a brief overview of many different topics.\n",
    "\n",
    "##### Write a function that scrapes the news articles for the following topics:\n",
    "\n",
    "- Business\n",
    "- Sports\n",
    "- Technology\n",
    "- Entertainment\n",
    "- The end product of this should be a function named get_news_articles that returns a list of dictionaries, where each dictionary has this shape:"
   ]
  },
  {
   "cell_type": "code",
   "execution_count": 11,
   "id": "37e25a1c",
   "metadata": {},
   "outputs": [],
   "source": [
    "#url for the insights website and request\n",
    "url= 'https://www.inshorts.com/en/read'\n",
    "\n",
    "\n",
    "response = get(url)"
   ]
  },
  {
   "cell_type": "code",
   "execution_count": 12,
   "id": "3685a299",
   "metadata": {},
   "outputs": [
    {
     "data": {
      "text/plain": [
       "<Response [200]>"
      ]
     },
     "execution_count": 12,
     "metadata": {},
     "output_type": "execute_result"
    }
   ],
   "source": [
    "#check the response\n",
    "response"
   ]
  },
  {
   "cell_type": "code",
   "execution_count": 13,
   "id": "99ca5b5b",
   "metadata": {},
   "outputs": [],
   "source": [
    "# Make a soup variable holding the response content\n",
    "soup = BeautifulSoup(response.content, 'html.parser')"
   ]
  },
  {
   "cell_type": "code",
   "execution_count": 14,
   "id": "41206fc5",
   "metadata": {},
   "outputs": [
    {
     "data": {
      "text/plain": [
       "'Breaking News Headlines: Read All News Updates in English | Inshorts'"
      ]
     },
     "execution_count": 14,
     "metadata": {},
     "output_type": "execute_result"
    }
   ],
   "source": [
    "soup.title.string"
   ]
  },
  {
   "cell_type": "code",
   "execution_count": 15,
   "id": "0bcd2e88",
   "metadata": {},
   "outputs": [
    {
     "data": {
      "text/plain": [
       "[]"
      ]
     },
     "execution_count": 15,
     "metadata": {},
     "output_type": "execute_result"
    }
   ],
   "source": [
    "soup.find_all('li',_class='active-category selected')"
   ]
  },
  {
   "cell_type": "code",
   "execution_count": null,
   "id": "2f9ca234",
   "metadata": {},
   "outputs": [],
   "source": []
  }
 ],
 "metadata": {
  "kernelspec": {
   "display_name": "Python 3 (ipykernel)",
   "language": "python",
   "name": "python3"
  },
  "language_info": {
   "codemirror_mode": {
    "name": "ipython",
    "version": 3
   },
   "file_extension": ".py",
   "mimetype": "text/x-python",
   "name": "python",
   "nbconvert_exporter": "python",
   "pygments_lexer": "ipython3",
   "version": "3.9.12"
  }
 },
 "nbformat": 4,
 "nbformat_minor": 5
}
